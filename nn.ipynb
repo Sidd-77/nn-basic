{
 "cells": [
  {
   "cell_type": "code",
   "execution_count": 3,
   "metadata": {},
   "outputs": [],
   "source": [
    "import numpy as np \n",
    "import pandas as pd\n",
    "import matplotlib.pyplot as plt"
   ]
  },
  {
   "cell_type": "code",
   "execution_count": 4,
   "metadata": {},
   "outputs": [],
   "source": [
    "data = pd.read_csv('./dataset/mnist_train.csv')"
   ]
  },
  {
   "cell_type": "code",
   "execution_count": 5,
   "metadata": {},
   "outputs": [
    {
     "data": {
      "text/html": [
       "<div>\n",
       "<style scoped>\n",
       "    .dataframe tbody tr th:only-of-type {\n",
       "        vertical-align: middle;\n",
       "    }\n",
       "\n",
       "    .dataframe tbody tr th {\n",
       "        vertical-align: top;\n",
       "    }\n",
       "\n",
       "    .dataframe thead th {\n",
       "        text-align: right;\n",
       "    }\n",
       "</style>\n",
       "<table border=\"1\" class=\"dataframe\">\n",
       "  <thead>\n",
       "    <tr style=\"text-align: right;\">\n",
       "      <th></th>\n",
       "      <th>5</th>\n",
       "      <th>0</th>\n",
       "      <th>0.1</th>\n",
       "      <th>0.2</th>\n",
       "      <th>0.3</th>\n",
       "      <th>0.4</th>\n",
       "      <th>0.5</th>\n",
       "      <th>0.6</th>\n",
       "      <th>0.7</th>\n",
       "      <th>0.8</th>\n",
       "      <th>...</th>\n",
       "      <th>0.608</th>\n",
       "      <th>0.609</th>\n",
       "      <th>0.610</th>\n",
       "      <th>0.611</th>\n",
       "      <th>0.612</th>\n",
       "      <th>0.613</th>\n",
       "      <th>0.614</th>\n",
       "      <th>0.615</th>\n",
       "      <th>0.616</th>\n",
       "      <th>0.617</th>\n",
       "    </tr>\n",
       "  </thead>\n",
       "  <tbody>\n",
       "    <tr>\n",
       "      <th>0</th>\n",
       "      <td>0</td>\n",
       "      <td>0</td>\n",
       "      <td>0</td>\n",
       "      <td>0</td>\n",
       "      <td>0</td>\n",
       "      <td>0</td>\n",
       "      <td>0</td>\n",
       "      <td>0</td>\n",
       "      <td>0</td>\n",
       "      <td>0</td>\n",
       "      <td>...</td>\n",
       "      <td>0</td>\n",
       "      <td>0</td>\n",
       "      <td>0</td>\n",
       "      <td>0</td>\n",
       "      <td>0</td>\n",
       "      <td>0</td>\n",
       "      <td>0</td>\n",
       "      <td>0</td>\n",
       "      <td>0</td>\n",
       "      <td>0</td>\n",
       "    </tr>\n",
       "    <tr>\n",
       "      <th>1</th>\n",
       "      <td>4</td>\n",
       "      <td>0</td>\n",
       "      <td>0</td>\n",
       "      <td>0</td>\n",
       "      <td>0</td>\n",
       "      <td>0</td>\n",
       "      <td>0</td>\n",
       "      <td>0</td>\n",
       "      <td>0</td>\n",
       "      <td>0</td>\n",
       "      <td>...</td>\n",
       "      <td>0</td>\n",
       "      <td>0</td>\n",
       "      <td>0</td>\n",
       "      <td>0</td>\n",
       "      <td>0</td>\n",
       "      <td>0</td>\n",
       "      <td>0</td>\n",
       "      <td>0</td>\n",
       "      <td>0</td>\n",
       "      <td>0</td>\n",
       "    </tr>\n",
       "    <tr>\n",
       "      <th>2</th>\n",
       "      <td>1</td>\n",
       "      <td>0</td>\n",
       "      <td>0</td>\n",
       "      <td>0</td>\n",
       "      <td>0</td>\n",
       "      <td>0</td>\n",
       "      <td>0</td>\n",
       "      <td>0</td>\n",
       "      <td>0</td>\n",
       "      <td>0</td>\n",
       "      <td>...</td>\n",
       "      <td>0</td>\n",
       "      <td>0</td>\n",
       "      <td>0</td>\n",
       "      <td>0</td>\n",
       "      <td>0</td>\n",
       "      <td>0</td>\n",
       "      <td>0</td>\n",
       "      <td>0</td>\n",
       "      <td>0</td>\n",
       "      <td>0</td>\n",
       "    </tr>\n",
       "    <tr>\n",
       "      <th>3</th>\n",
       "      <td>9</td>\n",
       "      <td>0</td>\n",
       "      <td>0</td>\n",
       "      <td>0</td>\n",
       "      <td>0</td>\n",
       "      <td>0</td>\n",
       "      <td>0</td>\n",
       "      <td>0</td>\n",
       "      <td>0</td>\n",
       "      <td>0</td>\n",
       "      <td>...</td>\n",
       "      <td>0</td>\n",
       "      <td>0</td>\n",
       "      <td>0</td>\n",
       "      <td>0</td>\n",
       "      <td>0</td>\n",
       "      <td>0</td>\n",
       "      <td>0</td>\n",
       "      <td>0</td>\n",
       "      <td>0</td>\n",
       "      <td>0</td>\n",
       "    </tr>\n",
       "    <tr>\n",
       "      <th>4</th>\n",
       "      <td>2</td>\n",
       "      <td>0</td>\n",
       "      <td>0</td>\n",
       "      <td>0</td>\n",
       "      <td>0</td>\n",
       "      <td>0</td>\n",
       "      <td>0</td>\n",
       "      <td>0</td>\n",
       "      <td>0</td>\n",
       "      <td>0</td>\n",
       "      <td>...</td>\n",
       "      <td>0</td>\n",
       "      <td>0</td>\n",
       "      <td>0</td>\n",
       "      <td>0</td>\n",
       "      <td>0</td>\n",
       "      <td>0</td>\n",
       "      <td>0</td>\n",
       "      <td>0</td>\n",
       "      <td>0</td>\n",
       "      <td>0</td>\n",
       "    </tr>\n",
       "  </tbody>\n",
       "</table>\n",
       "<p>5 rows × 785 columns</p>\n",
       "</div>"
      ],
      "text/plain": [
       "   5  0  0.1  0.2  0.3  0.4  0.5  0.6  0.7  0.8  ...  0.608  0.609  0.610  \\\n",
       "0  0  0    0    0    0    0    0    0    0    0  ...      0      0      0   \n",
       "1  4  0    0    0    0    0    0    0    0    0  ...      0      0      0   \n",
       "2  1  0    0    0    0    0    0    0    0    0  ...      0      0      0   \n",
       "3  9  0    0    0    0    0    0    0    0    0  ...      0      0      0   \n",
       "4  2  0    0    0    0    0    0    0    0    0  ...      0      0      0   \n",
       "\n",
       "   0.611  0.612  0.613  0.614  0.615  0.616  0.617  \n",
       "0      0      0      0      0      0      0      0  \n",
       "1      0      0      0      0      0      0      0  \n",
       "2      0      0      0      0      0      0      0  \n",
       "3      0      0      0      0      0      0      0  \n",
       "4      0      0      0      0      0      0      0  \n",
       "\n",
       "[5 rows x 785 columns]"
      ]
     },
     "execution_count": 5,
     "metadata": {},
     "output_type": "execute_result"
    }
   ],
   "source": [
    "data.head()"
   ]
  },
  {
   "cell_type": "code",
   "execution_count": 6,
   "metadata": {},
   "outputs": [
    {
     "name": "stdout",
     "output_type": "stream",
     "text": [
      "59999 785\n"
     ]
    }
   ],
   "source": [
    "data = np.array(data)\n",
    "m, n = data.shape\n",
    "np.random.shuffle(data)\n",
    "print(m, n)\n",
    "\n",
    "data_val = data[:1000].T\n",
    "Y_val = data_val[0]\n",
    "X_val = data_val[1:n]\n",
    "\n",
    "data_train = data[1000:].T\n",
    "Y_train = data_train[0]\n",
    "X_train = data_train[1:n]\n",
    "X_train = X_train / 255.\n",
    "_, m_train = X_train.shape\n"
   ]
  },
  {
   "cell_type": "code",
   "execution_count": 8,
   "metadata": {},
   "outputs": [],
   "source": [
    "def init_params() :\n",
    "    W1 = np.random.rand(10, 784) - 0.5\n",
    "    b1 = np.random.rand(10, 1) - 0.5\n",
    "    W2 = np.random.rand(10, 10) - 0.5\n",
    "    b2 = np.random.rand(10, 1) - 0.5\n",
    "    return W1, b1, W2, b2"
   ]
  },
  {
   "cell_type": "code",
   "execution_count": 9,
   "metadata": {},
   "outputs": [],
   "source": [
    "def ReLU(Z):\n",
    "    return np.maximum(Z, 0)\n",
    "\n",
    "def Deriv_ReLU(Z):\n",
    "    return Z>0"
   ]
  },
  {
   "cell_type": "code",
   "execution_count": 10,
   "metadata": {},
   "outputs": [],
   "source": [
    "def softMax(Z):\n",
    "    # shiftZ = Z - np.max(Z)\n",
    "    # exps = np.exp(shiftZ)\n",
    "    # return exps / np.sum(exps)\n",
    "    A = np.exp(Z) / sum(np.exp(Z))\n",
    "    return A"
   ]
  },
  {
   "cell_type": "code",
   "execution_count": 11,
   "metadata": {},
   "outputs": [],
   "source": [
    "def forward_prop(W1, b1, W2, b2, X):\n",
    "    Z1 = W1.dot(X) + b1\n",
    "    A1 = ReLU(Z1)\n",
    "    Z2 = W2.dot(A1) + b2\n",
    "    A2 = softMax(Z2)\n",
    "    return Z1, A1, Z2, A2"
   ]
  },
  {
   "cell_type": "code",
   "execution_count": 12,
   "metadata": {},
   "outputs": [],
   "source": [
    "def one_hot(Y):\n",
    "    one_hot_Y = np.zeros((Y.size, Y.max()+1))\n",
    "    one_hot_Y[np.arange(Y.size), Y] = 1\n",
    "    one_hot_Y = one_hot_Y.T\n",
    "    return one_hot_Y"
   ]
  },
  {
   "cell_type": "code",
   "execution_count": 13,
   "metadata": {},
   "outputs": [],
   "source": [
    "def backword_prop(Z1, A1, Z2, A2, W2, X, Y):\n",
    "    one_hot_Y = one_hot(Y)\n",
    "    dZ2 = A2 - one_hot_Y\n",
    "    dW2 = (1/m) * (dZ2.dot(A1.T))\n",
    "    db2 = (1/m) * np.sum(dZ2)\n",
    "    dZ1 = W2.T.dot(dZ2) * Deriv_ReLU(Z1)\n",
    "    dW1 = (1/m) * dZ1.dot(X.T)\n",
    "    db1 = (1/m) * np.sum(dZ1)\n",
    "    return dW1, db1, dW2, db2"
   ]
  },
  {
   "cell_type": "code",
   "execution_count": 14,
   "metadata": {},
   "outputs": [],
   "source": [
    "def update_params(W1, b1, W2, b2, dW1, db1, dW2, db2, alpha):\n",
    "    W1 = W1 - alpha * dW1\n",
    "    b1 = b1 - alpha * db1\n",
    "    W2 = W2 - alpha * dW2\n",
    "    b2 = b2 - alpha * db2\n",
    "    return W1, b1, W2, b2"
   ]
  },
  {
   "cell_type": "code",
   "execution_count": 15,
   "metadata": {},
   "outputs": [],
   "source": [
    "def get_predictions(A2):\n",
    "    return np.argmax(A2,0)\n",
    "\n",
    "def get_accuracy(predictions, Y):\n",
    "    print(predictions, Y)\n",
    "    return np.sum(predictions==Y) / Y.size"
   ]
  },
  {
   "cell_type": "code",
   "execution_count": 16,
   "metadata": {},
   "outputs": [],
   "source": [
    "def gradient_descent(X, Y, alpha, iterations):\n",
    "    W1, b1, W2, b2 = init_params()\n",
    "    for i in range(iterations):\n",
    "        Z1, A1, Z2, A2 = forward_prop(W1, b1, W2, b2, X)\n",
    "        dW1, db1, dW2, db2 = backword_prop(Z1, A1, Z2, A2, W2, X, Y)\n",
    "        W1, b1, W2, b2 = update_params(W1, b1, W2, b2, dW1, db1, dW2, db2, alpha)\n",
    "        if i%10 == 0 :\n",
    "            print('Iterations : ', i)\n",
    "            predictions = get_predictions(A2)\n",
    "            print('Accuracy : ', get_accuracy(predictions, Y))\n",
    "    return W1, b1, W2, b2"
   ]
  },
  {
   "cell_type": "code",
   "execution_count": 17,
   "metadata": {},
   "outputs": [
    {
     "name": "stdout",
     "output_type": "stream",
     "text": [
      "Iterations :  0\n",
      "[7 6 1 ... 5 6 6] [6 2 1 ... 6 8 9]\n",
      "Accuracy :  0.07466228241156629\n",
      "Iterations :  10\n",
      "[4 7 1 ... 5 7 7] [6 2 1 ... 6 8 9]\n",
      "Accuracy :  0.11284937032831065\n",
      "Iterations :  20\n",
      "[4 3 1 ... 5 4 4] [6 2 1 ... 6 8 9]\n",
      "Accuracy :  0.14832454787369279\n",
      "Iterations :  30\n",
      "[4 9 1 ... 5 4 9] [6 2 1 ... 6 8 9]\n",
      "Accuracy :  0.19910506957745047\n",
      "Iterations :  40\n",
      "[0 9 1 ... 4 4 9] [6 2 1 ... 6 8 9]\n",
      "Accuracy :  0.2544958389125239\n",
      "Iterations :  50\n",
      "[0 9 1 ... 9 8 9] [6 2 1 ... 6 8 9]\n",
      "Accuracy :  0.2905133985321785\n",
      "Iterations :  60\n",
      "[6 3 1 ... 5 8 9] [6 2 1 ... 6 8 9]\n",
      "Accuracy :  0.3336158239970169\n",
      "Iterations :  70\n",
      "[6 3 1 ... 3 8 9] [6 2 1 ... 6 8 9]\n",
      "Accuracy :  0.3728368277428431\n",
      "Iterations :  80\n",
      "[6 3 1 ... 3 8 9] [6 2 1 ... 6 8 9]\n",
      "Accuracy :  0.40688825234326004\n",
      "Iterations :  90\n",
      "[6 3 1 ... 8 8 9] [6 2 1 ... 6 8 9]\n",
      "Accuracy :  0.4339226088577772\n",
      "Iterations :  100\n",
      "[6 3 1 ... 8 8 9] [6 2 1 ... 6 8 9]\n",
      "Accuracy :  0.4548043187172664\n",
      "Iterations :  110\n",
      "[6 3 1 ... 8 8 9] [6 2 1 ... 6 8 9]\n",
      "Accuracy :  0.47544873641926133\n",
      "Iterations :  120\n",
      "[6 3 1 ... 8 8 9] [6 2 1 ... 6 8 9]\n",
      "Accuracy :  0.4961948507601824\n",
      "Iterations :  130\n",
      "[6 3 1 ... 8 8 9] [6 2 1 ... 6 8 9]\n",
      "Accuracy :  0.5182630214071425\n",
      "Iterations :  140\n",
      "[6 3 1 ... 8 8 9] [6 2 1 ... 6 8 9]\n",
      "Accuracy :  0.5391786301462737\n",
      "Iterations :  150\n",
      "[6 3 1 ... 8 8 9] [6 2 1 ... 6 8 9]\n",
      "Accuracy :  0.5608400142375295\n",
      "Iterations :  160\n",
      "[6 3 1 ... 8 8 9] [6 2 1 ... 6 8 9]\n",
      "Accuracy :  0.5802471228325904\n",
      "Iterations :  170\n",
      "[6 3 1 ... 8 8 9] [6 2 1 ... 6 8 9]\n",
      "Accuracy :  0.6007050966965541\n",
      "Iterations :  180\n",
      "[6 3 1 ... 8 8 9] [6 2 1 ... 6 8 9]\n",
      "Accuracy :  0.6193664299394905\n",
      "Iterations :  190\n",
      "[6 3 1 ... 8 8 9] [6 2 1 ... 6 8 9]\n",
      "Accuracy :  0.636942999033882\n",
      "Iterations :  200\n",
      "[6 3 1 ... 8 8 9] [6 2 1 ... 6 8 9]\n",
      "Accuracy :  0.651638163358701\n",
      "Iterations :  210\n",
      "[6 2 1 ... 8 8 9] [6 2 1 ... 6 8 9]\n",
      "Accuracy :  0.6668926591976135\n",
      "Iterations :  220\n",
      "[6 2 1 ... 8 8 9] [6 2 1 ... 6 8 9]\n",
      "Accuracy :  0.6801132222580044\n",
      "Iterations :  230\n",
      "[6 2 1 ... 8 8 9] [6 2 1 ... 6 8 9]\n",
      "Accuracy :  0.691791386294683\n",
      "Iterations :  240\n",
      "[6 2 1 ... 8 8 9] [6 2 1 ... 6 8 9]\n",
      "Accuracy :  0.7033848031322565\n",
      "Iterations :  250\n",
      "[6 2 1 ... 8 8 9] [6 2 1 ... 6 8 9]\n",
      "Accuracy :  0.7138934558212852\n",
      "Iterations :  260\n",
      "[6 2 1 ... 8 8 9] [6 2 1 ... 6 8 9]\n",
      "Accuracy :  0.7235037881998\n",
      "Iterations :  270\n",
      "[6 2 1 ... 8 8 9] [6 2 1 ... 6 8 9]\n",
      "Accuracy :  0.7329107273004627\n",
      "Iterations :  280\n",
      "[6 2 1 ... 8 8 9] [6 2 1 ... 6 8 9]\n",
      "Accuracy :  0.7407922168172342\n",
      "Iterations :  290\n",
      "[6 2 1 ... 8 8 9] [6 2 1 ... 6 8 9]\n",
      "Accuracy :  0.7481652231393753\n",
      "Iterations :  300\n",
      "[6 2 1 ... 8 8 9] [6 2 1 ... 6 8 9]\n",
      "Accuracy :  0.7542331225952982\n",
      "Iterations :  310\n",
      "[6 2 1 ... 8 8 9] [6 2 1 ... 6 8 9]\n",
      "Accuracy :  0.7599281343751589\n",
      "Iterations :  320\n",
      "[6 2 1 ... 6 8 9] [6 2 1 ... 6 8 9]\n",
      "Accuracy :  0.7655722978355566\n",
      "Iterations :  330\n",
      "[6 2 1 ... 6 8 9] [6 2 1 ... 6 8 9]\n",
      "Accuracy :  0.7702164443465144\n",
      "Iterations :  340\n",
      "[6 2 1 ... 6 8 9] [6 2 1 ... 6 8 9]\n",
      "Accuracy :  0.7750978830149664\n",
      "Iterations :  350\n",
      "[6 2 1 ... 6 8 9] [6 2 1 ... 6 8 9]\n",
      "Accuracy :  0.779470838488788\n",
      "Iterations :  360\n",
      "[6 2 1 ... 6 8 9] [6 2 1 ... 6 8 9]\n",
      "Accuracy :  0.7837590467635045\n",
      "Iterations :  370\n",
      "[6 2 1 ... 6 8 9] [6 2 1 ... 6 8 9]\n",
      "Accuracy :  0.7874540246444856\n",
      "Iterations :  380\n",
      "[6 2 1 ... 6 8 9] [6 2 1 ... 6 8 9]\n",
      "Accuracy :  0.7908100137290462\n",
      "Iterations :  390\n",
      "[6 2 1 ... 6 8 9] [6 2 1 ... 6 8 9]\n",
      "Accuracy :  0.7944541432905643\n",
      "Iterations :  400\n",
      "[6 2 1 ... 6 8 9] [6 2 1 ... 6 8 9]\n",
      "Accuracy :  0.7972169019813895\n",
      "Iterations :  410\n",
      "[6 2 1 ... 6 8 9] [6 2 1 ... 6 8 9]\n",
      "Accuracy :  0.7996406718757945\n",
      "Iterations :  420\n",
      "[6 2 1 ... 6 8 9] [6 2 1 ... 6 8 9]\n",
      "Accuracy :  0.8023356328073357\n",
      "Iterations :  430\n",
      "[6 2 1 ... 6 8 9] [6 2 1 ... 6 8 9]\n",
      "Accuracy :  0.80508144205834\n",
      "Iterations :  440\n",
      "[6 2 1 ... 6 8 9] [6 2 1 ... 6 8 9]\n",
      "Accuracy :  0.8077425041102392\n",
      "Iterations :  450\n",
      "[6 2 1 ... 6 8 9] [6 2 1 ... 6 8 9]\n",
      "Accuracy :  0.809996779606434\n",
      "Iterations :  460\n",
      "[6 2 1 ... 6 8 9] [6 2 1 ... 6 8 9]\n",
      "Accuracy :  0.8122510551026288\n",
      "Iterations :  470\n",
      "[6 2 1 ... 6 8 9] [6 2 1 ... 6 8 9]\n",
      "Accuracy :  0.8148443193952439\n",
      "Iterations :  480\n",
      "[6 2 1 ... 6 8 9] [6 2 1 ... 6 8 9]\n",
      "Accuracy :  0.8165562128171664\n",
      "Iterations :  490\n",
      "[6 2 1 ... 6 8 9] [6 2 1 ... 6 8 9]\n",
      "Accuracy :  0.8183867523178359\n"
     ]
    }
   ],
   "source": [
    "W1, b1, W2, b2 = gradient_descent(X_train, Y_train, 0.10, 500)"
   ]
  },
  {
   "cell_type": "code",
   "execution_count": 18,
   "metadata": {},
   "outputs": [],
   "source": [
    "def make_predictions(X, W1, b1, W2, b2):\n",
    "    _, _, _, A2 = forward_prop(W1, b1, W2, b2, X)\n",
    "    predictions = get_predictions(A2)\n",
    "    return predictions\n",
    "\n",
    "def test_prediction(index, W1, b1, W2, b2):\n",
    "    current_image = X_train[:, index, None]\n",
    "    prediction = make_predictions(X_train[:, index, None], W1, b1, W2, b2)\n",
    "    label = Y_train[index]\n",
    "    print(\"Prediction: \", prediction)\n",
    "    print(\"Label: \", label)\n",
    "    \n",
    "    current_image = current_image.reshape((28, 28)) * 255\n",
    "    plt.gray()\n",
    "    plt.imshow(current_image, interpolation='nearest')\n",
    "    plt.show()"
   ]
  },
  {
   "cell_type": "code",
   "execution_count": 21,
   "metadata": {},
   "outputs": [
    {
     "name": "stdout",
     "output_type": "stream",
     "text": [
      "Prediction:  [1]\n",
      "Label:  1\n"
     ]
    },
    {
     "data": {
      "image/png": "[encoded data removed]",
      "text/plain": [
       "<Figure size 640x480 with 1 Axes>"
      ]
     },
     "metadata": {},
     "output_type": "display_data"
    }
   ],
   "source": [
    "test_prediction(534, W1, b1, W2, b2)"
   ]
  },
  {
   "cell_type": "code",
   "execution_count": 19,
   "metadata": {},
   "outputs": [
    {
     "name": "stdout",
     "output_type": "stream",
     "text": [
      "Prediction:  [6]\n",
      "Label:  6\n"
     ]
    },
    {
     "data": {
      "image/png": "[encoded data removed]",
      "text/plain": [
       "<Figure size 640x480 with 1 Axes>"
      ]
     },
     "metadata": {},
     "output_type": "display_data"
    },
    {
     "name": "stdout",
     "output_type": "stream",
     "text": [
      "Prediction:  [2]\n",
      "Label:  2\n"
     ]
    },
    {
     "data": {
      "image/png": "[encoded data removed]",
      "text/plain": [
       "<Figure size 640x480 with 1 Axes>"
      ]
     },
     "metadata": {},
     "output_type": "display_data"
    },
    {
     "name": "stdout",
     "output_type": "stream",
     "text": [
      "Prediction:  [1]\n",
      "Label:  1\n"
     ]
    },
    {
     "data": {
      "image/png": "[encoded data removed]",
      "text/plain": [
       "<Figure size 640x480 with 1 Axes>"
      ]
     },
     "metadata": {},
     "output_type": "display_data"
    },
    {
     "name": "stdout",
     "output_type": "stream",
     "text": [
      "Prediction:  [4]\n",
      "Label:  4\n"
     ]
    },
    {
     "data": {
      "image/png": "[encoded data removed]",
      "text/plain": [
       "<Figure size 640x480 with 1 Axes>"
      ]
     },
     "metadata": {},
     "output_type": "display_data"
    }
   ],
   "source": [
    "test_prediction(0, W1, b1, W2, b2)\n",
    "test_prediction(1, W1, b1, W2, b2)\n",
    "test_prediction(2, W1, b1, W2, b2)\n",
    "test_prediction(3, W1, b1, W2, b2)"
   ]
  }
 ],
 "metadata": {
  "kernelspec": {
   "display_name": ".venv",
   "language": "python",
   "name": "python3"
  },
  "language_info": {
   "codemirror_mode": {
    "name": "ipython",
    "version": 3
   },
   "file_extension": ".py",
   "mimetype": "text/x-python",
   "name": "python",
   "nbconvert_exporter": "python",
   "pygments_lexer": "ipython3",
   "version": "3.11.3"
  }
 },
 "nbformat": 4,
 "nbformat_minor": 2
}
